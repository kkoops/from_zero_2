{
  "nbformat": 4,
  "nbformat_minor": 0,
  "metadata": {
    "colab": {
      "name": "Untitled1.ipynb",
      "provenance": [],
      "authorship_tag": "ABX9TyNBQ38kbCvV0ipj+4cOpLpm",
      "include_colab_link": true
    },
    "kernelspec": {
      "name": "python3",
      "display_name": "Python 3"
    },
    "language_info": {
      "name": "python"
    }
  },
  "cells": [
    {
      "cell_type": "markdown",
      "metadata": {
        "id": "view-in-github",
        "colab_type": "text"
      },
      "source": [
        "<a href=\"https://colab.research.google.com/github/kkoops/from_zero_2/blob/master/1_2_1.ipynb\" target=\"_parent\"><img src=\"https://colab.research.google.com/assets/colab-badge.svg\" alt=\"Open In Colab\"/></a>"
      ]
    },
    {
      "cell_type": "code",
      "execution_count": null,
      "metadata": {
        "id": "CLT0tfrI1mxG"
      },
      "outputs": [],
      "source": [
        "import numpy as np"
      ]
    },
    {
      "cell_type": "code",
      "source": [
        "def sigmoid(x):\n",
        "  return 1/(1+np.exp(-x))\n",
        "\n",
        "x=np.random.randn(10,2)\n",
        "W1=np.random.randn(2,4)\n",
        "b1=np.random.randn(4)\n",
        "W2=np.random.randn(4,3)\n",
        "b2=np.random.randn(3)"
      ],
      "metadata": {
        "id": "hH0vN0Tq1pYc"
      },
      "execution_count": null,
      "outputs": []
    },
    {
      "cell_type": "code",
      "source": [
        "h=np.dot(x,W1)+b1\n",
        "a=sigmoid(h)\n",
        "s=np.dot(a,W2)+b2"
      ],
      "metadata": {
        "id": "v0m47Ram2Wcx"
      },
      "execution_count": null,
      "outputs": []
    },
    {
      "cell_type": "code",
      "source": [
        ""
      ],
      "metadata": {
        "id": "AIdbOOjl2g1B"
      },
      "execution_count": null,
      "outputs": []
    }
  ]
}